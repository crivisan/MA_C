{
 "cells": [
  {
   "cell_type": "code",
   "execution_count": 1,
   "metadata": {},
   "outputs": [],
   "source": [
    "from tensorflow.keras.layers import Input, Conv2D, SeparableConv2D, \\\n",
    "     Add, Dense, BatchNormalization, ReLU, MaxPool2D, GlobalAvgPool2D"
   ]
  },
  {
   "cell_type": "code",
   "execution_count": 2,
   "metadata": {},
   "outputs": [],
   "source": [
    "#Helper functions for:\n",
    "#Convolutional Batch Normalization block\n",
    "def conv_bn(x, filters, kernel_size, strides=1):\n",
    "    x = Conv2D(filters=filters,\n",
    "               kernel_size=kernel_size,\n",
    "               strides=strides,\n",
    "               padding='same',\n",
    "               use_bias=False)(x)\n",
    "    x = BatchNormalization()(x)\n",
    "    return x\n",
    "\n",
    "#Separable Convolutional Batch Normalization\n",
    "def sep_bn(x, filters, kernel_size, strides=1):\n",
    "    x = SeparableConv2D(filters=filters,\n",
    "                        kernel_size=kernel_size,\n",
    "                        strides=strides,\n",
    "                        padding='same',\n",
    "                        use_bias=False)(x)\n",
    "    x = BatchNormalization()(x)\n",
    "    return x"
   ]
  },
  {
   "cell_type": "code",
   "execution_count": 3,
   "metadata": {},
   "outputs": [],
   "source": [
    "#Main three structures, entry-middle-exit\n",
    "def entry_flow(x):\n",
    "    x = conv_bn(x, filters=32, kernel_size=3, strides=2)\n",
    "    x = ReLU()(x)\n",
    "    x = conv_bn(x, filters=64, kernel_size=3)\n",
    "    tensor = ReLU()(x)\n",
    "\n",
    "    x = sep_bn(tensor, filters=128, kernel_size=3)\n",
    "    x = ReLU()(x)\n",
    "    x = sep_bn(x, filters=128, kernel_size=3)\n",
    "    x = MaxPool2D(pool_size=3, strides=2, padding='same')(x)\n",
    "\n",
    "    tensor = conv_bn(tensor, filters=128, kernel_size=1, strides=2)\n",
    "\n",
    "    x = Add()([tensor, x])\n",
    "    x = ReLU()(x)\n",
    "    x = sep_bn(x, filters=256, kernel_size=3)\n",
    "    x = ReLU()(x)\n",
    "    x = sep_bn(x, filters=256, kernel_size=3)\n",
    "    x = MaxPool2D(pool_size=3, strides=2, padding='same')(x)\n",
    "\n",
    "    tensor = conv_bn(tensor, filters=256, kernel_size=1, strides=2)\n",
    "\n",
    "    x = Add()([tensor, x])\n",
    "    x = ReLU()(x)\n",
    "    x = sep_bn(x, filters=728, kernel_size=3)\n",
    "    x = ReLU()(x)\n",
    "    x = sep_bn(x, filters=728, kernel_size=3)\n",
    "    x = MaxPool2D(pool_size=3, strides=2, padding='same')(x)\n",
    "\n",
    "    tensor = conv_bn(tensor, filters=728, kernel_size=1, strides=2)\n",
    "    x = Add()([tensor, x])\n",
    "\n",
    "    return x\n",
    " \n",
    "\n",
    "def middle_flow(tensor):\n",
    "    for _ in range(8):\n",
    "        x = ReLU()(tensor)\n",
    "        x = sep_bn(x, filters=728, kernel_size=3)\n",
    "        x = ReLU()(x)\n",
    "        x = sep_bn(x, filters=728, kernel_size=3)\n",
    "        x = ReLU()(x)\n",
    "        x = sep_bn(x, filters=728, kernel_size=3)\n",
    "\n",
    "        tensor = Add()([tensor, x])\n",
    "\n",
    "    return tensor\n",
    " \n",
    "\n",
    "def exit_flow(tensor):\n",
    "    x = ReLU()(tensor)\n",
    "    x = sep_bn(x, filters=728, kernel_size=3)\n",
    "    x = ReLU()(x)\n",
    "    x = sep_bn(x, filters=1024, kernel_size=3)\n",
    "    x = MaxPool2D(3, strides=2, padding='same')(x)\n",
    "\n",
    "    tensor = conv_bn(tensor, filters=1024, kernel_size=1, strides=2)\n",
    "\n",
    "    x = Add()([tensor, x])\n",
    "    x = sep_bn(x, filters=1536, kernel_size=3)\n",
    "    x = ReLU()(x)\n",
    "    x = sep_bn(x, filters=2048, kernel_size=3)\n",
    "    x = ReLU()(x)\n",
    "    x = GlobalAvgPool2D()(x)\n",
    "    x = Dense(units=1000, activation='softmax')(x)\n",
    "\n",
    "    return x"
   ]
  },
  {
   "cell_type": "code",
   "execution_count": 4,
   "metadata": {},
   "outputs": [],
   "source": [
    "#input = Input(shape=[256, 256, 3])\n",
    "input = Input(shape=[299, 299, 3])\n",
    "x = entry_flow(input)\n",
    "x = middle_flow(x)\n",
    "output = exit_flow(x)\n",
    " \n",
    "from tensorflow.keras import Model \n",
    "model = Model(input, output)"
   ]
  },
  {
   "cell_type": "code",
   "execution_count": 1,
   "metadata": {},
   "outputs": [],
   "source": [
    "from tensorflow.keras.utils import plot_model\n",
    "plot_model(model, show_shapes=True)"
   ]
  }
 ],
 "metadata": {
  "kernelspec": {
   "display_name": "Python 3",
   "language": "python",
   "name": "python3"
  },
  "language_info": {
   "codemirror_mode": {
    "name": "ipython",
    "version": 3
   },
   "file_extension": ".py",
   "mimetype": "text/x-python",
   "name": "python",
   "nbconvert_exporter": "python",
   "pygments_lexer": "ipython3",
   "version": "3.7.6"
  }
 },
 "nbformat": 4,
 "nbformat_minor": 4
}
